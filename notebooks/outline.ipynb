{
 "cells": [
  {
   "cell_type": "code",
   "execution_count": 2,
   "id": "5a1c670e",
   "metadata": {},
   "outputs": [],
   "source": [
    "import numpy as np"
   ]
  },
  {
   "cell_type": "markdown",
   "id": "d1fecaf0",
   "metadata": {},
   "source": [
    "# Roadmap\n",
    "\n",
    "Our first step involves [mouse gastrulation data](https://marionilab.cruk.cam.ac.uk/MouseGastrulation2018/) from the [Marioni Lab](https://github.com/MarioniLab/EmbryoTimecourse2018/) corresponding to [this paper](https://www.nature.com/articles/s41586-019-0933-9). \n",
    "\n",
    "We would like to analyze this scRNAseq data so as to compare it with the mESC FACS data from [Sáez et al.](https://www.cell.com/cell-systems/pdfExtended/S2405-4712(21)00336-7).\n",
    "\n",
    "To this end, let us first compare the gene expression and FACS data, and see if we can identify some mapping between the cell types used in the two cases.\n",
    "\n",
    "### Sáez et al.\n",
    "\n",
    "In Sáez et al., the 7 presumed cell types were\n",
    "- Epiblast (EPI)\n",
    "- Transitioning (Tr)\n",
    "- Anterior Neural (AN)\n",
    "- Caudal Epiblast (CE)\n",
    "- Posterior Neural (PN)\n",
    "- Mesoderm (M)\n",
    "- Unidentified Transitioning (UT)\n",
    "\n",
    "Note that the Transitioning classification refers to cells in the process of transitioning between the EPI and AN vs. CE states, while the UT classification refers to cells that are not confidently classified into any of the other 6 states.\n",
    "\n",
    "The raw FACS data in this case measured levels of the following proteins:\n",
    "- Bra\n",
    "- Cdx2\n",
    "- Sox1\n",
    "- Sox2\n",
    "- Tbx6\n",
    "\n",
    "### Marioni\n",
    "\n",
    "Marioni identified 37 different cell types among a set of 116,312 cells within 411 gastrulating mouse embryos, sampled at nine sequential timepoints between E6.5 and E8.5.\n",
    "\n",
    "1. Epiblast\n",
    "2. Primitive streak\n",
    "3. Caudal epiblast\n",
    "4. Primordial germ cells\n",
    "5. Anterior primitive streak\n",
    "6. Notochord\n",
    "7. Def. endoderm\n",
    "8. Gut\n",
    "9. Nascent mesoderm \n",
    "10. Mixed mesoderm \n",
    "11. Intermediate mesoderm \n",
    "12. Caudal mesoderm \n",
    "13. Paraxial mesoderm \n",
    "14. Somitic mesoderm \n",
    "15. Pharyngeal mesoderm \n",
    "16. Cardiomyocytes \n",
    "17. Allantois\n",
    "18. ExE mesoderm\n",
    "19. Mesenchyme\n",
    "20. Haemato-endothelial prog.\n",
    "21. Blood progenitors 1\n",
    "22. Blood progenitors 2\n",
    "23. Erythroid 1\n",
    "24. Erythroid 2\n",
    "25. Erythroid 3\n",
    "26. Endothelium\n",
    "27. Neuromesodermal progenitors\n",
    "28. Rostral neuroectoderm\n",
    "29. Caudal neuroectoderm\n",
    "30. Neural crest\n",
    "31. Forebrain/midbrain/hindbrain\n",
    "32. Spinal cord\n",
    "33. Surface ectoderm\n",
    "34. Visceral endoderm\n",
    "35. ExE endoderm\n",
    "36. ExE ectoderm\n",
    "37. Parietal endoderm\n",
    "\n",
    "To begin, let's look specifically at the genes corresponding to the marker proteins listed above.\n"
   ]
  },
  {
   "cell_type": "markdown",
   "id": "83046211",
   "metadata": {},
   "source": [
    "## Marker gene expression levels\n",
    "\n"
   ]
  },
  {
   "cell_type": "code",
   "execution_count": null,
   "id": "70af802d",
   "metadata": {},
   "outputs": [],
   "source": [
    "# TODO: Plot, for each cell type, the level of expression for each of the marker genes."
   ]
  }
 ],
 "metadata": {
  "kernelspec": {
   "display_name": "siginfer (env)",
   "language": "python",
   "name": "siginfer-env"
  },
  "language_info": {
   "codemirror_mode": {
    "name": "ipython",
    "version": 3
   },
   "file_extension": ".py",
   "mimetype": "text/x-python",
   "name": "python",
   "nbconvert_exporter": "python",
   "pygments_lexer": "ipython3",
   "version": "3.8.15"
  }
 },
 "nbformat": 4,
 "nbformat_minor": 5
}
