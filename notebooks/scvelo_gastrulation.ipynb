{
 "cells": [
  {
   "cell_type": "code",
   "execution_count": null,
   "id": "c548056b",
   "metadata": {},
   "outputs": [],
   "source": [
    "import numpy as np\n",
    "import matplotlib.pyplot as plt\n",
    "import scvelo as scv\n",
    "import scanpy"
   ]
  },
  {
   "cell_type": "code",
   "execution_count": null,
   "id": "cc3fdf08",
   "metadata": {},
   "outputs": [],
   "source": [
    "datdir = \"../data\""
   ]
  },
  {
   "cell_type": "markdown",
   "id": "9870ac65",
   "metadata": {},
   "source": [
    "## Gastrulation dataset accessed through scVelo\n",
    "\n",
    "Load the gastrulation dataset provided by scVelo. It looks like this dataset doesn't contain all of the 116,312 cells that we are interested in. In particular, it appears to lack cells expressing Sox1 and Sox2, which are some of the marker proteins used by Sàez et al. We can see that there are no counts of Sox1 across all of the cells."
   ]
  },
  {
   "cell_type": "code",
   "execution_count": null,
   "id": "e6637dae",
   "metadata": {},
   "outputs": [],
   "source": [
    "adata = scv.datasets.gastrulation(f\"{datdir}/Gastrulation/gastrulation.h5ad\")\n",
    "print(adata)"
   ]
  },
  {
   "cell_type": "code",
   "execution_count": null,
   "id": "574d354a",
   "metadata": {},
   "outputs": [],
   "source": [
    "all_genes = adata.var.index.str.lower()\n",
    "\n",
    "# Find genes in the Sox 'family'\n",
    "sox_genes = all_genes[all_genes.str.slice(0,3) == 'sox']\n",
    "\n",
    "print(\"Total counts of Sox1:\", adata[:,'Sox1'].X.sum())"
   ]
  },
  {
   "cell_type": "markdown",
   "id": "3355b47b",
   "metadata": {},
   "source": [
    "Prepare the data, adopting the approach taken by S. Farrell [here](https://github.com/Spencerfar/LatentVelo/blob/main/paper_notebooks/Gastrulation.ipynb)."
   ]
  },
  {
   "cell_type": "code",
   "execution_count": null,
   "id": "7ed9a241",
   "metadata": {},
   "outputs": [],
   "source": [
    "# subsample data\n",
    "np.random.seed(1)\n",
    "# adata = adata[np.random.choice(adata.shape[0], size=30000, replace=False)]\n",
    "\n",
    "# set up experimental time\n",
    "adata.obs['exp_time'] = np.array([float(t[1:]) for t in adata.obs['stage']])\n",
    "adata.obs['exp_time'] = adata.obs['exp_time']/adata.obs['exp_time'].max()\n",
    "\n",
    "adata.obs['celltype_names'] = adata.obs['celltype'].copy().values\n",
    "# scv.pp.filter_genes(adata, min_shared_counts=10)\n",
    "\n",
    "# ltv.utils.anvi_clean_recipe(adata, batch_key='sequencing.batch', celltype_key='celltype', n_top_genes=None)\n"
   ]
  },
  {
   "cell_type": "markdown",
   "id": "277f2282",
   "metadata": {},
   "source": [
    "Take a look at the cell types present."
   ]
  },
  {
   "cell_type": "code",
   "execution_count": null,
   "id": "fd7a7fa8",
   "metadata": {},
   "outputs": [],
   "source": [
    "list(np.unique(adata.obs['celltype_names']))"
   ]
  },
  {
   "cell_type": "markdown",
   "id": "58d1fc50",
   "metadata": {},
   "source": [
    "We can select a subset of these cells that we wish to keep. For now, keep all of them."
   ]
  },
  {
   "cell_type": "code",
   "execution_count": null,
   "id": "c79e31e6",
   "metadata": {},
   "outputs": [],
   "source": [
    "# types_to_keep = [\n",
    "#     'Anterior Primitive Streak',\n",
    "#     'Epiblast', \n",
    "#     'Caudal epiblast', \n",
    "#     'Caudal neurectoderm', \n",
    "#     'Rostral neurectoderm', \n",
    "#     'Paraxial mesoderm',\n",
    "#     'Caudal Mesoderm',\n",
    "#     'Primitive Streak',\n",
    "#     'NMP',\n",
    "#     'Spinal cord'\n",
    "# ]\n",
    "\n",
    "types_to_keep = np.unique(adata.obs['celltype_names'])\n",
    "\n",
    "subset = adata[np.isin(adata.obs['celltype_names'], types_to_keep)]"
   ]
  },
  {
   "cell_type": "markdown",
   "id": "46cd5267",
   "metadata": {},
   "source": [
    "We are interested in only a subset of the genes."
   ]
  },
  {
   "cell_type": "code",
   "execution_count": null,
   "id": "e31912b0",
   "metadata": {},
   "outputs": [],
   "source": [
    "gene_list = [\n",
    "    'T',  # Bra\n",
    "    'Cdx2',\n",
    "    'Sox1',\n",
    "    'Sox2',\n",
    "    'Sox3',\n",
    "    'Tbx6',\n",
    "    'Otx2'\n",
    "]\n",
    "\n",
    "present_list = []\n",
    "for gname in gene_list:\n",
    "    ispresent = gname in subset.var.index\n",
    "    print(f\"Gene {gname} in subset?: {ispresent}\")\n",
    "    present_list.append(ispresent)"
   ]
  },
  {
   "cell_type": "code",
   "execution_count": null,
   "id": "6bc3a31e",
   "metadata": {},
   "outputs": [],
   "source": [
    "list(np.unique(subset.obs['celltype_names']))"
   ]
  },
  {
   "cell_type": "markdown",
   "id": "863dfecb",
   "metadata": {},
   "source": [
    "### Plot all cells in the subset, coloring according to cell type."
   ]
  },
  {
   "cell_type": "code",
   "execution_count": null,
   "id": "64597921",
   "metadata": {},
   "outputs": [],
   "source": [
    "fig, ax = plt.subplots(1, 1, figsize=(10, 10))\n",
    "ctypes = np.unique(subset.obs['celltype_names'])\n",
    "for ctype in ctypes:\n",
    "    bset = subset[subset.obs['celltype_names'] == ctype]\n",
    "    ax.scatter(bset.obs['umapX'], bset.obs['umapY'], s=3, color=bset.obs['colour'], label=ctype)\n",
    "ax.set_xlabel('UMAP $x$')\n",
    "ax.set_ylabel('UMAP $y$')\n",
    "\n",
    "lgnd = ax.legend()  \n",
    "for i in range(len(ctypes)):\n",
    "    lgnd.legendHandles[i]._sizes = [30]"
   ]
  },
  {
   "cell_type": "markdown",
   "id": "1f685046",
   "metadata": {},
   "source": [
    "### Plot gene expression for each gene of interest"
   ]
  },
  {
   "cell_type": "code",
   "execution_count": null,
   "id": "f7db9307",
   "metadata": {
    "scrolled": false
   },
   "outputs": [],
   "source": [
    "for i, gname in enumerate(gene_list):\n",
    "    if not present_list[i]:\n",
    "        print(f\"Gene {gname} not present in subset. Skipping\")\n",
    "    else:\n",
    "        fig, ax = plt.subplots(1, 1, figsize=(4, 4))\n",
    "        \n",
    "        for ctype in ctypes:\n",
    "            bset = subset[subset.obs['celltype_names'] == ctype]\n",
    "            ax.scatter(bset.obs['umapX'], bset.obs['umapY'], s=3, color=bset.obs['colour'], label=ctype,alpha=0.01)\n",
    "        ax.set_xlabel('UMAP $x$')\n",
    "        ax.set_ylabel('UMAP $y$')\n",
    "            \n",
    "        expr = subset[:,gname].X.toarray()\n",
    "        screen = (expr > 0).flatten()\n",
    "        expr = expr[screen]\n",
    "\n",
    "        ax.scatter(subset.obs['umapX'][screen], subset.obs['umapY'][screen], s=1, c=expr, label=gname, alpha=0.2)\n",
    "        ax.set_xlabel('UMAP $x$')\n",
    "        ax.set_ylabel('UMAP $y$')\n",
    "        ax.set_title(gname)"
   ]
  },
  {
   "cell_type": "markdown",
   "id": "127c8874",
   "metadata": {},
   "source": [
    "### Some silly quantitative analysis of the genes of interest"
   ]
  },
  {
   "cell_type": "code",
   "execution_count": null,
   "id": "cc640c44",
   "metadata": {},
   "outputs": [],
   "source": [
    "for gname in gene_list:\n",
    "    print(gname)\n",
    "    tot_expr = np.sum(adata[:,gname].X, 1)\n",
    "    tot_expr_sp = np.sum(adata[:,gname].layers['spliced'], 1)\n",
    "    tot_expr_us = np.sum(adata[:,gname].layers['unspliced'], 1)\n",
    "    screen = tot_expr > 0\n",
    "    print(\"\\tTotal Expr:\\n\\t\", tot_expr[screen])\n",
    "    print(\"\\tTotal Expr (spliced):\\n\\t\", tot_expr_sp[screen])\n",
    "    print(\"\\tTotal Expr (unspliced):\\n\\t\", tot_expr_us[screen])\n",
    "\n",
    "#     print(np.sum(adata[:,gname].layers['spliced'], 1).max())\n",
    "#     print(np.sum(adata[:,gname].layers['unspliced'], 1).max())"
   ]
  }
 ],
 "metadata": {
  "kernelspec": {
   "display_name": "musgast (env)",
   "language": "python",
   "name": "musgast-env"
  },
  "language_info": {
   "codemirror_mode": {
    "name": "ipython",
    "version": 3
   },
   "file_extension": ".py",
   "mimetype": "text/x-python",
   "name": "python",
   "nbconvert_exporter": "python",
   "pygments_lexer": "ipython3",
   "version": "3.8.15"
  }
 },
 "nbformat": 4,
 "nbformat_minor": 5
}
