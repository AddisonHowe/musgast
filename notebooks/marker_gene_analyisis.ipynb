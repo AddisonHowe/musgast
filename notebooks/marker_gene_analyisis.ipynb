{
 "cells": [
  {
   "cell_type": "code",
   "execution_count": null,
   "id": "c548056b",
   "metadata": {},
   "outputs": [],
   "source": [
    "import numpy as np\n",
    "import matplotlib.pyplot as plt\n",
    "import scvelo as scv\n",
    "import scanpy"
   ]
  },
  {
   "cell_type": "code",
   "execution_count": null,
   "id": "1556494a",
   "metadata": {},
   "outputs": [],
   "source": [
    "datdir = \"../data\""
   ]
  },
  {
   "cell_type": "markdown",
   "id": "dfe9c3e8",
   "metadata": {},
   "source": [
    "# Full gastrulation dataset\n",
    "\n",
    "Load the data including the entire 116,312 cells, [downloaded through r](https://bioconductor.org/packages/release/data/experiment/vignettes/MouseGastrulationData/inst/doc/MouseGastrulationData.html) and converted to anndata."
   ]
  },
  {
   "cell_type": "code",
   "execution_count": null,
   "id": "1b05cca2",
   "metadata": {},
   "outputs": [],
   "source": [
    "adata = scv.read(f\"{datdir}/gastrulation_atlas_full.h5ad\")\n",
    "\n",
    "# Remove cells with stage \"mixed_gastrulation\"\n",
    "adata = adata[adata.obs['stage'] != 'mixed_gastrulation']\n",
    "print(adata)"
   ]
  },
  {
   "cell_type": "code",
   "execution_count": null,
   "id": "a3309e91",
   "metadata": {},
   "outputs": [],
   "source": [
    "# Note that gene names are stored under var SYMBOL\n",
    "adata.var['SYMBOL']"
   ]
  },
  {
   "cell_type": "markdown",
   "id": "b7e47ba2",
   "metadata": {},
   "source": [
    "Prepare the data, adopting the approach taken by S. Farrell [here](https://github.com/Spencerfar/LatentVelo/blob/main/paper_notebooks/Gastrulation.ipynb)."
   ]
  },
  {
   "cell_type": "code",
   "execution_count": null,
   "id": "dbaa7945",
   "metadata": {},
   "outputs": [],
   "source": [
    "# subsample data\n",
    "np.random.seed(1)\n",
    "# adata = adata[np.random.choice(adata.shape[0], size=30000, replace=False)]\n",
    "\n",
    "# set up experimental time\n",
    "adata.obs['exp_time'] = np.array([float(t[1:]) for t in adata.obs['stage']])\n",
    "adata.obs['exp_time'] = adata.obs['exp_time']/adata.obs['exp_time'].max()\n",
    "\n",
    "adata.obs['celltype_names'] = adata.obs['celltype'].copy().values\n",
    "# scv.pp.filter_genes(adata, min_shared_counts=10)\n",
    "# gc.collect()\n",
    "\n",
    "# ltv.utils.anvi_clean_recipe(adata, batch_key='sequencing.batch', celltype_key='celltype', n_top_genes=None)\n",
    "\n",
    "# gc.collect()"
   ]
  },
  {
   "cell_type": "markdown",
   "id": "5a52d7e4",
   "metadata": {},
   "source": [
    "Take a look at the cell types present."
   ]
  },
  {
   "cell_type": "code",
   "execution_count": null,
   "id": "7f5af66b",
   "metadata": {},
   "outputs": [],
   "source": [
    "list(np.unique(adata.obs['celltype_names']))"
   ]
  },
  {
   "cell_type": "markdown",
   "id": "df7fe317",
   "metadata": {},
   "source": [
    "We can select a subset of these cells that we wish to keep. For now, keep all of them."
   ]
  },
  {
   "cell_type": "code",
   "execution_count": null,
   "id": "2a478cac",
   "metadata": {},
   "outputs": [],
   "source": [
    "# types_to_keep = [\n",
    "#     'Epiblast', \n",
    "#     'Caudal epiblast', \n",
    "#     'Caudal neurectoderm', \n",
    "#     'Rostral neurectoderm', \n",
    "#     'Paraxial mesoderm',\n",
    "#     'Caudal Mesoderm',\n",
    "#     'Primitive Streak',\n",
    "#     'NMP',\n",
    "# ]\n",
    "\n",
    "types_to_keep = np.unique(adata.obs['celltype_names'])\n",
    "\n",
    "subset = adata[np.isin(adata.obs['celltype_names'], types_to_keep)]"
   ]
  },
  {
   "cell_type": "markdown",
   "id": "bca52c5c",
   "metadata": {},
   "source": [
    "We are interested in only a subset of the genes."
   ]
  },
  {
   "cell_type": "code",
   "execution_count": null,
   "id": "61429a91",
   "metadata": {},
   "outputs": [],
   "source": [
    "gene_list = [\n",
    "    'T',  # Bra\n",
    "    'Cdx2',\n",
    "    'Sox1',\n",
    "    'Sox2',\n",
    "    'Sox3',\n",
    "    'Tbx6',\n",
    "    'Otx2'\n",
    "]\n",
    "\n",
    "present_list = []\n",
    "print(subset.var['SYMBOL'].str.lower().values)\n",
    "for gname in gene_list:\n",
    "#     ispresent = gname in subset.var.index\n",
    "    ispresent = gname.lower() in subset.var['SYMBOL'].str.lower().values\n",
    "    print(f\"Gene {gname} in subset?: {ispresent}\")\n",
    "    present_list.append(ispresent)"
   ]
  },
  {
   "cell_type": "code",
   "execution_count": null,
   "id": "114d848d",
   "metadata": {},
   "outputs": [],
   "source": [
    "list(np.unique(subset.obs['celltype_names']))"
   ]
  },
  {
   "cell_type": "markdown",
   "id": "7fd59c0f",
   "metadata": {},
   "source": [
    "### Plot all cells in the subset, coloring according to cell type."
   ]
  },
  {
   "cell_type": "code",
   "execution_count": null,
   "id": "d3cf2fba",
   "metadata": {},
   "outputs": [],
   "source": [
    "fig, ax = plt.subplots(1, 1, figsize=(10, 10))\n",
    "ctypes = np.unique(subset.obs['celltype_names'])\n",
    "for ctype in ctypes:\n",
    "    bset = subset[subset.obs['celltype_names'] == ctype]\n",
    "    cols = ['#'+s for s in bset.obs['colour']]\n",
    "    ax.scatter(bset.obsm['umap']['x'], bset.obsm['umap']['y'], s=3, c=cols, label=ctype)\n",
    "ax.set_xlabel('UMAP $x$')\n",
    "ax.set_ylabel('UMAP $y$')\n",
    "\n",
    "lgnd = ax.legend()  \n",
    "for i in range(len(ctypes)):\n",
    "    lgnd.legendHandles[i]._sizes = [30]"
   ]
  },
  {
   "cell_type": "markdown",
   "id": "acb7f67c",
   "metadata": {},
   "source": [
    "### Plot gene expression for each gene of interest"
   ]
  },
  {
   "cell_type": "code",
   "execution_count": null,
   "id": "4d5b0c34",
   "metadata": {
    "scrolled": false
   },
   "outputs": [],
   "source": [
    "for i, gname in enumerate(gene_list):\n",
    "    if not present_list[i]:\n",
    "        print(f\"Gene {gname} not present in subset. Skipping\")\n",
    "    else:\n",
    "        fig, ax = plt.subplots(1, 1, figsize=(4, 4))\n",
    "        \n",
    "        for ctype in ctypes:\n",
    "            bset = subset[subset.obs['celltype_names'] == ctype]\n",
    "            cols = ['#'+s for s in bset.obs['colour']]\n",
    "            ax.scatter(bset.obsm['umap']['x'], bset.obsm['umap']['y'], s=3, c=cols, label=ctype, alpha=0.02)\n",
    "        ax.set_xlabel('UMAP $x$')\n",
    "        ax.set_ylabel('UMAP $y$')\n",
    "        \n",
    "        expr = subset[:,subset.var['SYMBOL']==gname].X.toarray()\n",
    "        screen = (expr > 0).flatten()\n",
    "        expr = expr[screen]\n",
    "        \n",
    "        ax.scatter(subset.obsm['umap']['x'][screen], subset.obsm['umap']['y'][screen], s=1, c=expr, label=gname, alpha=0.2)\n",
    "        ax.set_xlabel('UMAP $x$')\n",
    "        ax.set_ylabel('UMAP $y$')\n",
    "        ax.set_title(gname)"
   ]
  },
  {
   "cell_type": "markdown",
   "id": "fdf04f56",
   "metadata": {},
   "source": [
    "### Some silly quantitative analysis of the genes of interest"
   ]
  },
  {
   "cell_type": "code",
   "execution_count": null,
   "id": "2f46cf1a",
   "metadata": {},
   "outputs": [],
   "source": [
    "for gname in gene_list:\n",
    "    print(gname)\n",
    "    tot_expr = np.sum(adata[:,adata.var['SYMBOL']==gname].X, 1)\n",
    "    screen = tot_expr > 0\n",
    "    print(\"\\tTotal Expr:\\n\\t\", tot_expr[screen])\n",
    "    print(\"\\tTotal Sum Expr:\\n\\t\", np.sum(tot_expr[screen]))\n",
    "\n",
    "#     print(np.sum(adata[:,gname].layers['spliced'], 1).max())\n",
    "#     print(np.sum(adata[:,gname].layers['unspliced'], 1).max())"
   ]
  },
  {
   "cell_type": "markdown",
   "id": "31ced99b",
   "metadata": {},
   "source": [
    "## Explore Sox1 expression"
   ]
  },
  {
   "cell_type": "code",
   "execution_count": null,
   "id": "6e51bc02",
   "metadata": {},
   "outputs": [],
   "source": [
    "# Get all cells with nonzero counts of Sox1\n",
    "sox1cells = adata[adata[:, adata.var['SYMBOL'] == 'Sox1'].X > 0,:]\n",
    "print(\"Number of cells with nonzero Sox1 expression:\", len(sox1cells))\n",
    "sox1cells = sox1cells[~np.isin(sox1cells.obs['celltype'], \n",
    "                               ['ExE exctoderm', 'ExE endoderm', 'ExE mesoderm']),:]\n",
    "print(\"Number of non-ExE cells with nonzero Sox1 expression:\", len(sox1cells))"
   ]
  },
  {
   "cell_type": "code",
   "execution_count": null,
   "id": "6e0758c3",
   "metadata": {},
   "outputs": [],
   "source": [
    "list(np.unique(sox1cells.obs['celltype']))"
   ]
  },
  {
   "cell_type": "code",
   "execution_count": null,
   "id": "bf455771",
   "metadata": {},
   "outputs": [],
   "source": [
    "sox1cells.obs['celltype'].value_counts()"
   ]
  }
 ],
 "metadata": {
  "kernelspec": {
   "display_name": "musgast (env)",
   "language": "python",
   "name": "musgast-env"
  },
  "language_info": {
   "codemirror_mode": {
    "name": "ipython",
    "version": 3
   },
   "file_extension": ".py",
   "mimetype": "text/x-python",
   "name": "python",
   "nbconvert_exporter": "python",
   "pygments_lexer": "ipython3",
   "version": "3.8.15"
  }
 },
 "nbformat": 4,
 "nbformat_minor": 5
}
